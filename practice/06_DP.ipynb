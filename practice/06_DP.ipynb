{
 "cells": [
  {
   "cell_type": "markdown",
   "metadata": {},
   "source": [
    "# 동적 계획법 (Dynamic Programming)\n",
    "- 큰 문제를 작은 문제들로 나누어 해결한 후, 그 결과를 저장하여 중복 계산을 줄이는 최적화 기법\n",
    "## 다이나믹 프로그래밍을 사용하는 알고리즘의 특징\n",
    "1. **중복 계산 감소**: 이미 계산한 결과를 저장하고, 필요할 때마다 재활용하여 중복된 계산을 피합니다.\n",
    "2. **점화식**: 주어진 문제의 해를 작은 문제의 해를 통해 표현하는 식을 정의합니다. 이를 점화식이라고 부릅니다.\n",
    "3. **최적 부분 구조**: 큰 문제의 최적해가 작은 문제들의 최적해를 통해 구할 수 있어야 합니다."
   ]
  },
  {
   "cell_type": "markdown",
   "metadata": {},
   "source": [
    "## 피보나치 수열"
   ]
  },
  {
   "cell_type": "code",
   "execution_count": null,
   "metadata": {},
   "outputs": [],
   "source": [
    "def fibo(n):\n",
    "    if n == 1 or n == 2:\n",
    "        return 1\n",
    "    return fibo(n - 1) + fibo(n - 2)\n",
    "\n",
    "# DP\n",
    "memo = {}\n",
    "\n",
    "def fibo(n):\n",
    "    if n == 1 or n == 2:\n",
    "        return 1\n",
    "    if n not in memo:\n",
    "        memo[n] = fibo(n - 1) + fibo(n - 2)\n",
    "    return memo[n]"
   ]
  }
 ],
 "metadata": {
  "kernelspec": {
   "display_name": "Python 3",
   "language": "python",
   "name": "python3"
  },
  "language_info": {
   "name": "python",
   "version": "3.9.13"
  }
 },
 "nbformat": 4,
 "nbformat_minor": 2
}
