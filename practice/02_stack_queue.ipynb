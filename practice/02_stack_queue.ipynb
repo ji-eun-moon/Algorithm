{
 "cells": [
  {
   "cell_type": "markdown",
   "metadata": {},
   "source": [
    "# 큐 (Queue)\n",
    "- 먼저 저장한 데이터가 먼저 출력되는 FIFO 형식으로 데이터를 저장하는 자료 구조\n",
    "- enqueue : queue 의 뒤(rear)에 데이터를 추가하는 것\n",
    "- dequeue : queue 의 앞(front)에서 데이터를 꺼내는 것\n",
    "## list 기반 구현"
   ]
  },
  {
   "cell_type": "code",
   "execution_count": null,
   "metadata": {},
   "outputs": [],
   "source": [
    "# queue 선언\n",
    "q = []\n",
    "\n",
    "# enqueue O(1)\n",
    "q.append(1) # [1]\n",
    "q.append(2) # [1, 2]\n",
    "q.append(3) # [1, 2, 3]\n",
    "\n",
    "# dequeue O(n)\n",
    "q.pop(0) # [2, 3]\n",
    "q.pop(0) # [3]"
   ]
  },
  {
   "cell_type": "markdown",
   "metadata": {},
   "source": [
    "## Linked list 기반 구현\n",
    "|  | 맨 앞(왼쪽) | 맨 뒤(오른쪽) |\n",
    "| --- | --- | --- |\n",
    "| 삽입 | appendleft() | append() |\n",
    "| 제거 | popleft() | pop() |"
   ]
  },
  {
   "cell_type": "code",
   "execution_count": null,
   "metadata": {},
   "outputs": [],
   "source": [
    "from collections import deque\n",
    "\n",
    "# deque 선언\n",
    "q = deque()\n",
    "\n",
    "# enqueue O(1)\n",
    "q.append(1) # [1]\n",
    "q.append(2) # [1, 2]\n",
    "q.append(3) # [1, 2, 3]\n",
    "q.appendleft(0) # [0, 1, 2, 3]\n",
    "\n",
    "# dequeue O(1)\n",
    "q.popleft() # [1, 2, 3]\n",
    "q.popleft() # [2, 3]\n",
    "q.pop() # [3]"
   ]
  },
  {
   "cell_type": "markdown",
   "metadata": {},
   "source": [
    "# 스택 (Stack)\n",
    "- 시간 순서상 가장 최근에 추가한 데이터가 가장 먼저 나오는 후입선출(LIFO) 형색으로 데이터를 저장하는 자료구조\n",
    "- push : stack top에 데이터를 추가\n",
    "- pop : stack top에서 데이터를 추출하는 것"
   ]
  },
  {
   "cell_type": "code",
   "execution_count": null,
   "metadata": {},
   "outputs": [],
   "source": [
    "# stack 선언\n",
    "s = []\n",
    "\n",
    "# push - O(1)\n",
    "s.append(1) # [1]\n",
    "s.append(2) # [1, 2]\n",
    "s.append(3) # [1, 2, 3]\n",
    "\n",
    "# pop - O(1)\n",
    "s.pop() # [1, 2]\n",
    "s.pop() # [1]"
   ]
  },
  {
   "cell_type": "markdown",
   "metadata": {},
   "source": [
    "# LIFO 문제 (1)\n",
    "![](./img/02-1.png)"
   ]
  },
  {
   "cell_type": "markdown",
   "metadata": {},
   "source": [
    "- 유효한 괄호\n",
    "    - 괗호 개수는 짝수\n",
    "    - 여는 괄호가 있으면 닫는 괄호가 있어야 한다.\n",
    "    - 안에 있는 괄호가 닫히기 전에는 밖에 있는 괄호를 닫을 수 없다."
   ]
  },
  {
   "cell_type": "code",
   "execution_count": 2,
   "metadata": {},
   "outputs": [
    {
     "name": "stdout",
     "output_type": "stream",
     "text": [
      "True\n",
      "False\n",
      "False\n"
     ]
    }
   ],
   "source": [
    "def isValid(str):\n",
    "    stack = []\n",
    "    for p in str:  # O(n)\n",
    "        if p == \"{\":\n",
    "            stack.append(\"}\")\n",
    "        elif p == \"[\":\n",
    "            stack.append(\"]\")\n",
    "        elif p == \"(\":\n",
    "            stack.append(\")\")\n",
    "        elif stack and stack[-1] == p:\n",
    "            stack.pop()\n",
    "        else:\n",
    "            return False\n",
    "    # 마지막에는 스택이 비어있어야 한다.\n",
    "    return not stack\n",
    "\n",
    "print(isValid(str=\"{([])}\"))\n",
    "print(isValid(str=\"{([])}}\"))\n",
    "print(isValid(str=\"{([))}\"))"
   ]
  },
  {
   "cell_type": "markdown",
   "metadata": {},
   "source": [
    "# LIFO 문제 (2)\n",
    "![](./img/02-2.png)"
   ]
  },
  {
   "cell_type": "code",
   "execution_count": 10,
   "metadata": {},
   "outputs": [
    {
     "name": "stdout",
     "output_type": "stream",
     "text": [
      "[1, 1, 4, 2, 1, 1, 0, 0]\n",
      "[1, 1, 1, 0]\n",
      "[1, 1, 0]\n"
     ]
    }
   ],
   "source": [
    "def daily_temperatures(temperatures):\n",
    "    ans = [0] * len(temperatures)\n",
    "    stack = []\n",
    "    # O(n)\n",
    "    for day, temp in enumerate(temperatures):\n",
    "        while stack and stack[-1][1] < temp:\n",
    "            prev_day = stack.pop()[0]\n",
    "            ans[prev_day] = day - prev_day\n",
    "        stack.append((day, temp))\n",
    "    return ans\n",
    "\n",
    "print(daily_temperatures(temperatures=[73, 74, 75, 71, 69, 72, 76, 73]))\n",
    "print(daily_temperatures(temperatures=[30, 40, 50, 60]))\n",
    "print(daily_temperatures(temperatures=[30, 60, 90]))"
   ]
  }
 ],
 "metadata": {
  "kernelspec": {
   "display_name": "Python 3",
   "language": "python",
   "name": "python3"
  },
  "language_info": {
   "codemirror_mode": {
    "name": "ipython",
    "version": 3
   },
   "file_extension": ".py",
   "mimetype": "text/x-python",
   "name": "python",
   "nbconvert_exporter": "python",
   "pygments_lexer": "ipython3",
   "version": "3.9.13"
  }
 },
 "nbformat": 4,
 "nbformat_minor": 2
}
