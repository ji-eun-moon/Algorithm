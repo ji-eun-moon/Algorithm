{
 "cells": [
  {
   "cell_type": "markdown",
   "metadata": {},
   "source": [
    "# 재귀 (Recursion)\n",
    "- 재귀 함수 (Recursive function)\n",
    "  - 자신을 정의할 때 자기 자신을 재참조하는 함수\n",
    "- 구성 요소 2가지\n",
    "    - recurrence relation (점화식)\n",
    "        - fn을 f(n-1), f(n-2), ..., f(2), f(1) 의 관계식으로 표현하는 것\n",
    "    - base case\n",
    "        - 더이상 재귀호출을 하지 않아도 계산 값을 반환할 수 있는 상황(조건)\n",
    "        - 모든 입력이 최종족으로 base case을 이용해서 문제를 해결할 수 있어야 함\n",
    "        - base case 가 있어야 재귀함수의 무한 루프를 방지할 수 있다.\n",
    "- **팩토리얼(factorial)**\n",
    "```python\n",
    "def factorial(n):\n",
    "    if n == 1:\n",
    "        return 1\n",
    "    return n * factorial(n - 1)\n",
    "```\n",
    "- **피보나치(fibonacci)**\n",
    "```python\n",
    "def fibo(n):\n",
    "    if n == 1 or n == 2:\n",
    "        return 1\n",
    "    return fibo(n - 1) + fibo(n - 2)\n",
    "```\n",
    "- 시간 복잡도\n",
    "    - 재귀함수 전체 시간 복잡도 = 재귀 함수 호출 수 * (재귀함수 하나당) 시간 복잡도"
   ]
  },
  {
   "cell_type": "markdown",
   "metadata": {
    "vscode": {
     "languageId": "plaintext"
    }
   },
   "source": [
    "# 트리 (Tree)\n",
    "- 서로 연결된 Node의 계층형 자료구조로써, root와 부모-자식 관계의 subtree로 구성되어 있음\n",
    "## 트리 관련 개념\n",
    "- 노드(Node) : 트리는 보통 노드로 구성됨\n",
    "- 간선(Edge) : 노드 간에 연결된 선\n",
    "- 루트 노드(Root) : 트리는 항상 루트에서 시작\n",
    "- 리프 노드(Leaf) : 더 이상 뻗어나갈 수 없는 마지막 노드\n",
    "- 자식 노드(Child), 부모 노드(Parent), 형제 노드(Sibling)\n",
    "- 차수(degree) : 각 노드가 갖는 자식의 수, 모든 노드의 차수가 n개 이하인 트리를 n진 트리라고 한다.\n",
    "- 조상(ancestor) : 위쪽으로 간선을 따라가면 만나는 모든 노드\n",
    "- 자손(descendant) : 아래쪽으로 간선을 따라가면 만나는 모든 노드\n",
    "- 높이(height) : 루트 노드에서 가장 멀리 있는 리프노드까지의 거리. 즉, 리프 노드 중에 최대 레벨 값\n",
    "- 서브 트리(subtree) : 트리의 어떤 노드를 루트로 하고, 그 자손으로 구성된 트리를 subtree라고 한다.\n",
    "## 이진 트리\n",
    "![](./img/04-2.png)\n",
    "![](./img/04-1.png)"
   ]
  },
  {
   "cell_type": "code",
   "execution_count": null,
   "metadata": {},
   "outputs": [],
   "source": [
    "# 이진 트리 구현하기\n",
    "\n",
    "class Node:\n",
    "    def __init__(self, value=0, left=None, right=None):\n",
    "        self.value = 0\n",
    "        self.left_child = None\n",
    "        self.right_child = None\n",
    "\n",
    "class BinaryTree:\n",
    "    def __init__(self):\n",
    "        self.root = None\n",
    "\n",
    "bt = BinaryTree()\n",
    "bt.root = Node(value=1)\n",
    "bt.root.left = Node(value=2)\n",
    "bt.root.right = Node(value=3)\n",
    "bt.root.left.left = Node(value=4)\n",
    "bt.root.left.right = Node(value=5)\n",
    "bt.root.right.left = Node(value=6)\n",
    "bt.root.right.right = Node(value=7)"
   ]
  },
  {
   "cell_type": "markdown",
   "metadata": {},
   "source": [
    "# 트리 순회 (Traversal)\n",
    "- 트리 탐색(search)라고도 불리우며 트리의 각 노드를 방문하는 과정을 말한다.\n",
    "- 모든 노드를 한 번씩 방문해야 하므로 완전 탐색이라고도 불린다.\n",
    "- 순회 방법으로는 너비 우선 탐색의 BFS와 깊이 우선 탐색의 DFS가 있다.\n",
    "## 너비 우선 탐색 (BFS)\n",
    "![](./img/04-3.png)\n",
    "- 탐색 순서 : A - B - C - D - E - F - G - H - I - J - K - L  \n"
   ]
  },
  {
   "cell_type": "code",
   "execution_count": null,
   "metadata": {},
   "outputs": [],
   "source": [
    "# 너비 우선 탐색\n",
    "\n",
    "from collections import deque\n",
    "\n",
    "# O(n)\n",
    "def bfs(root):\n",
    "    visited = []\n",
    "    if root is None:\n",
    "        return []\n",
    "    q = deque()\n",
    "    q.append(root)\n",
    "    while q:\n",
    "        cur_node = q.popleft()\n",
    "        visited.append(cur_node.value)\n",
    "\n",
    "        if cur_node.left:\n",
    "            q.append(cur_node.left)\n",
    "        if cur_node.right:\n",
    "            q.append(cur_node.right)\n",
    "    \n",
    "    return visited\n"
   ]
  },
  {
   "cell_type": "markdown",
   "metadata": {},
   "source": [
    "## DFS by recursion"
   ]
  },
  {
   "cell_type": "code",
   "execution_count": null,
   "metadata": {},
   "outputs": [],
   "source": [
    "# 깊이 우선 탐색 접근 방법\n",
    "\n",
    "def dfs(root):\n",
    "    if root is None:\n",
    "        return\n",
    "    dfs(root.left)\n",
    "    dfs(root.right)"
   ]
  },
  {
   "cell_type": "markdown",
   "metadata": {},
   "source": [
    "![](./img/04-4.png)\n",
    "- 전위 순회: A를 가장 먼저 방문 하는 것\n",
    "    - 출력 순서: A(root), B(left), C(right)\n",
    "    - 나를 먼저 방문하고 자식 노드들을 방문한다.\n",
    "- 중위 순회: A를 중간에 방문 하는 것\n",
    "    - 출력 순서: B(left), A(root), C(right)\n",
    "    - 왼쪽 노드를 먼저 방문하고, 나를 방문한 후, 오른쪽 노드를 방문한다.\n",
    "- 후위 순회: A를 가장 마지막에 방문 하는 것\n",
    "    - 출력 순서: B(left), C(right), A(root)\n",
    "    - 자식노드들을 다 방문한 후, 나를 방문한다."
   ]
  },
  {
   "cell_type": "code",
   "execution_count": null,
   "metadata": {},
   "outputs": [],
   "source": [
    "# 전위 순회\n",
    "def preorder(root):\n",
    "\tif root is None:\n",
    "\t\treturn\n",
    "\tprint(root)\n",
    "\tpreorder(root.left)\n",
    "\tpreorder(root.right)\n",
    "\n",
    "# 중위 순회\n",
    "def inorder(root):\n",
    "\tif root is None:\n",
    "\t\treturn\n",
    "\tinorder(root.left)\n",
    "\tprint(root)\n",
    "\tinorder(root.right)\n",
    "\n",
    "# 후위 순회\n",
    "def postorder(root):\n",
    "\tif root is None:\n",
    "\t\treturn\n",
    "\tpostorder(root.left)\n",
    "\tpostorder(root.right)\n",
    "\tprint(root)"
   ]
  },
  {
   "cell_type": "markdown",
   "metadata": {},
   "source": [
    "# 문제 풀이 - (1)\n",
    "![](./img/04-5.png)"
   ]
  },
  {
   "cell_type": "code",
   "execution_count": 4,
   "metadata": {},
   "outputs": [],
   "source": [
    "# Definition for a binary tree node.\n",
    "class TreeNode:\n",
    "    def __init__(self, x):\n",
    "        self.val = x\n",
    "        self.left = None\n",
    "        self.right = None\n",
    "\n",
    "class Solution:\n",
    "    def lowestCommonAncestor(\n",
    "        self, root: \"TreeNode\", p: \"TreeNode\", q: \"TreeNode\"\n",
    "    ) -> \"TreeNode\":\n",
    "        if root == None:\n",
    "            return None\n",
    "\n",
    "        left = self.lowestCommonAncestor(root.left, p, q)\n",
    "        right = self.lowestCommonAncestor(root.right, p, q)\n",
    "\n",
    "        if root.val == p.val or root.val == q.val:\n",
    "            return root\n",
    "        elif left and right:\n",
    "            return root\n",
    "        else:\n",
    "            return left or right\n"
   ]
  },
  {
   "cell_type": "markdown",
   "metadata": {},
   "source": [
    "# 문제 풀이 - (2)\n",
    "![](./img/04-6.png)"
   ]
  },
  {
   "cell_type": "code",
   "execution_count": 6,
   "metadata": {},
   "outputs": [
    {
     "name": "stdout",
     "output_type": "stream",
     "text": [
      "Maximum Depth: 3\n"
     ]
    }
   ],
   "source": [
    "# level order\n",
    "from typing import Optional\n",
    "from collections import deque\n",
    "\n",
    "class Solution:\n",
    "    def maxDepth(self, root: Optional[TreeNode]) -> int:\n",
    "        if root is None:\n",
    "            return 0\n",
    "\n",
    "        max_depth = 0\n",
    "        q = deque()\n",
    "        q.append((root, 1))\n",
    "\n",
    "        # O(n)\n",
    "        while q:\n",
    "            cur_node, cur_depth = q.popleft()\n",
    "            max_depth = max(max_depth, cur_depth)\n",
    "            if cur_node.left:\n",
    "                q.append((cur_node.left, cur_depth + 1))\n",
    "            if cur_node.right:\n",
    "                q.append((cur_node.right, cur_depth + 1))\n",
    "\n",
    "        return max_depth\n",
    "    \n",
    "root = TreeNode(3)\n",
    "root.left = TreeNode(9)\n",
    "root.right = TreeNode(20)\n",
    "root.right.left = TreeNode(15)\n",
    "root.right.right = TreeNode(7)\n",
    "\n",
    "solution = Solution()\n",
    "\n",
    "result = solution.maxDepth(root)\n",
    "\n",
    "print(\"Maximum Depth:\", result)"
   ]
  },
  {
   "cell_type": "code",
   "execution_count": 5,
   "metadata": {},
   "outputs": [
    {
     "name": "stdout",
     "output_type": "stream",
     "text": [
      "Maximum Depth: 3\n"
     ]
    }
   ],
   "source": [
    "# post order\n",
    "class Solution(object):\n",
    "    def maxDepth(self, root):\n",
    "        if root is None:\n",
    "            return 0\n",
    "        \n",
    "        left_depth = self.maxDepth(root.left)\n",
    "        right_depth = self.maxDepth(root.right)\n",
    "        max_depth = max(left_depth, right_depth) + 1\n",
    "        return max_depth\n",
    "\n",
    "root = TreeNode(3)\n",
    "root.left = TreeNode(9)\n",
    "root.right = TreeNode(20)\n",
    "root.right.left = TreeNode(15)\n",
    "root.right.right = TreeNode(7)\n",
    "\n",
    "solution = Solution()\n",
    "\n",
    "result = solution.maxDepth(root)\n",
    "\n",
    "print(\"Maximum Depth:\", result)"
   ]
  }
 ],
 "metadata": {
  "kernelspec": {
   "display_name": "Python 3",
   "language": "python",
   "name": "python3"
  },
  "language_info": {
   "codemirror_mode": {
    "name": "ipython",
    "version": 3
   },
   "file_extension": ".py",
   "mimetype": "text/x-python",
   "name": "python",
   "nbconvert_exporter": "python",
   "pygments_lexer": "ipython3",
   "version": "3.9.13"
  }
 },
 "nbformat": 4,
 "nbformat_minor": 2
}
