{
 "cells": [
  {
   "cell_type": "markdown",
   "metadata": {},
   "source": [
    "# 완전탐색 (Exhaustive search)\n",
    "- 문제의 해를 찾기 위하여 가능한 모든 해를 찾아내어 그 중 주어진 조건을 만족하는 최적해를 찾는 패러다임\n",
    "- 모든 가능성을 확인하기때문에 가장 정확하고 최적의 해를 구할 수 있지만, 시간복잡도가 매우 높아질 수 있다.\n",
    "## 완전 탐색을 사용해야 할 시점?\n",
    "- 주어진 입력의 범위가 작아 가능한 모든 해를 찾는 시간이 적게 들 때\n",
    "    - 코딩테스트의 문제는 대체로 시간복잡도가 10^8이내인 경우 통과\n",
    "    - 입력의 범위가 100과 같이 작은 경우 완전 탐색으로 걸리는 시간복잡도가 O(n^2)이라면 해당 방법은 10^4의 시간복잡도를 갖기에 통과\n",
    "    - 이와 같이 주어진 입력의 범위가 작아 완전 탐색의 시간복잡도 또한 낮아지는 경우 완전 탐색으로 빠르게 구현하여 문제를 해결할 수 있음\n",
    "- 우선적으로 답을 구하고 그 과정을 최적화하여 시간을 줄이고 싶을 때\n",
    "    - 주어진 입력의 범위가 커서 완전 탐색으로는 시간 제한을 맞추지 못하는 문제에도 우선 완전탐색을 적용시키는 방법을 고려할 수 있음\n",
    "    - 완전 탐색을 우선 구현한 후 해당 방법을 개선해 나감으로써 시간 제한을 맞출 수 있다.\n",
    "    - 완전탐색을 통해 진행되는 문제의 과정을 보고 문제의 유형을 파악할 수 있는 등 문제의 명확한 풀이방법을 찾지 못했을 경우에는 우선 완전탐색으로 구현하는 것도 좋은 방법 !\n",
    "## 완전 탐색 vs 브루트 포스\n",
    "- 두 패러다임 모두 가능한 모든 해를 찾아내는 것은 같지만, 완전탐색은 그 모든 해를 찾아나가는 과정이 보다 체계적인 방면 브루트포스는 모든 해를 찾아나가는 과정이 이름 그대로 무식(Brute)하게 모든 해를 찾아나간다는 것이 패러다임의 차이\n",
    "## 코딩테스트에서 자주 나오는 완전 탐색 문제\n",
    "- **모든 가능성 탐색:** 모든 가능성을 탐색해보고 문제에서 원하는 결과와 일치하는 값을 찾는 문제\n",
    "- **부분집합 생성:** 모든 부분집합을 생성하여 특정 조건을 만족하는 부분집합을 찾는 문제.\n",
    "- **순열과 조합:** 주어진 요소들로 가능한 모든 순열 또는 조합을 생성하는 문제.\n",
    "- **격자 탐색:** 격자 내의 모든 위치를 탐색하며 특정 조건을 만족하는 위치를 찾는 문제.\n",
    "## 구현\n",
    "- 반복문\n",
    "    \n",
    "    ```python\n",
    "    for i in range(n):\n",
    "    \tfor j in range(i+1, n):\n",
    "    ```\n",
    "    \n",
    "- 재귀\n",
    "    \n",
    "    ```python\n",
    "    a.append()\n",
    "    backtrakcing()\n",
    "    a.pop()\n",
    "    ```\n",
    "    \n",
    "- 비트마스크"
   ]
  },
  {
   "cell_type": "markdown",
   "metadata": {},
   "source": [
    "# 예제 - [Two Sum](https://leetcode.com/problems/two-sum/)\n",
    "\n"
   ]
  },
  {
   "cell_type": "code",
   "execution_count": 6,
   "metadata": {},
   "outputs": [
    {
     "name": "stdout",
     "output_type": "stream",
     "text": [
      "[9, 5]\n",
      "[4, 9, 1]\n"
     ]
    }
   ],
   "source": [
    "nums = [4, 9, 7, 5, 1]\n",
    "target = 14\n",
    "\n",
    "for i in range(len(nums)):\n",
    "    for j in range(i+1, len(nums)):\n",
    "        if nums[i] + nums[j] == target:\n",
    "            print([nums[i], nums[j]])\n",
    "\n",
    "# 3개의 숫자를 더해서 target 숫자가 나오는 경우?\n",
    "for i in range(len(nums)):\n",
    "    for j in range(i+1, len(nums)):\n",
    "        for k in range(j+1, len(nums)):\n",
    "            if nums[i] + nums[j] + nums[k] == target:\n",
    "                print([nums[i], nums[j], nums[k]])"
   ]
  },
  {
   "cell_type": "code",
   "execution_count": 24,
   "metadata": {},
   "outputs": [
    {
     "name": "stdout",
     "output_type": "stream",
     "text": [
      "[9, 5]\n",
      "[4, 9, 1]\n"
     ]
    }
   ],
   "source": [
    "\n",
    "ans = []\n",
    "def backtracking(start):\n",
    "    if len(ans) == 2:\n",
    "        if sum(ans) == target:\n",
    "            print(ans)\n",
    "        return \n",
    "    for i in range(start, len(nums)):\n",
    "        ans.append(nums[i])\n",
    "        backtracking(i+1)\n",
    "        ans.pop()\n",
    "\n",
    "backtracking(0)\n",
    "\n",
    "ans = []\n",
    "def backtracking(start):\n",
    "    if len(ans) == 3:\n",
    "        if sum(ans) == target:\n",
    "            print(ans)\n",
    "        return \n",
    "    for i in range(start, len(nums)):\n",
    "        ans.append(nums[i])\n",
    "        backtracking(i+1)\n",
    "        ans.pop()\n",
    "\n",
    "backtracking(0)"
   ]
  },
  {
   "cell_type": "markdown",
   "metadata": {},
   "source": [
    "# 순열, 조합, 부분집합"
   ]
  },
  {
   "cell_type": "code",
   "execution_count": 27,
   "metadata": {},
   "outputs": [
    {
     "name": "stdout",
     "output_type": "stream",
     "text": [
      "[[1, 2], [1, 3], [1, 4], [1, 5], [2, 3], [2, 4], [2, 5], [3, 4], [3, 5], [4, 5]]\n"
     ]
    }
   ],
   "source": [
    "# combinations\n",
    "\n",
    "def combinations(start, path):\n",
    "    # 조합이 완성된 경우 결과에 추가\n",
    "    if len(path) == k:\n",
    "        result.append(path[:])\n",
    "        return\n",
    "    \n",
    "    # 가능한 모든 숫자에 대해 반복\n",
    "    for i in range(start, n+1):\n",
    "        path.append(i)\n",
    "        combinations(i+1, path)\n",
    "        path.pop()\n",
    "\n",
    "n = 5\n",
    "k = 2\n",
    "result = []\n",
    "combinations(1, [])\n",
    "print(result)\n"
   ]
  },
  {
   "cell_type": "code",
   "execution_count": 28,
   "metadata": {},
   "outputs": [
    {
     "name": "stdout",
     "output_type": "stream",
     "text": [
      "[[1, 2, 3, 4, 5], [1, 2, 3, 5, 4], [1, 2, 4, 3, 5], [1, 2, 4, 5, 3], [1, 2, 5, 3, 4], [1, 2, 5, 4, 3], [1, 3, 2, 4, 5], [1, 3, 2, 5, 4], [1, 3, 4, 2, 5], [1, 3, 4, 5, 2], [1, 3, 5, 2, 4], [1, 3, 5, 4, 2], [1, 4, 2, 3, 5], [1, 4, 2, 5, 3], [1, 4, 3, 2, 5], [1, 4, 3, 5, 2], [1, 4, 5, 2, 3], [1, 4, 5, 3, 2], [1, 5, 2, 3, 4], [1, 5, 2, 4, 3], [1, 5, 3, 2, 4], [1, 5, 3, 4, 2], [1, 5, 4, 2, 3], [1, 5, 4, 3, 2], [2, 1, 3, 4, 5], [2, 1, 3, 5, 4], [2, 1, 4, 3, 5], [2, 1, 4, 5, 3], [2, 1, 5, 3, 4], [2, 1, 5, 4, 3], [2, 3, 1, 4, 5], [2, 3, 1, 5, 4], [2, 3, 4, 1, 5], [2, 3, 4, 5, 1], [2, 3, 5, 1, 4], [2, 3, 5, 4, 1], [2, 4, 1, 3, 5], [2, 4, 1, 5, 3], [2, 4, 3, 1, 5], [2, 4, 3, 5, 1], [2, 4, 5, 1, 3], [2, 4, 5, 3, 1], [2, 5, 1, 3, 4], [2, 5, 1, 4, 3], [2, 5, 3, 1, 4], [2, 5, 3, 4, 1], [2, 5, 4, 1, 3], [2, 5, 4, 3, 1], [3, 1, 2, 4, 5], [3, 1, 2, 5, 4], [3, 1, 4, 2, 5], [3, 1, 4, 5, 2], [3, 1, 5, 2, 4], [3, 1, 5, 4, 2], [3, 2, 1, 4, 5], [3, 2, 1, 5, 4], [3, 2, 4, 1, 5], [3, 2, 4, 5, 1], [3, 2, 5, 1, 4], [3, 2, 5, 4, 1], [3, 4, 1, 2, 5], [3, 4, 1, 5, 2], [3, 4, 2, 1, 5], [3, 4, 2, 5, 1], [3, 4, 5, 1, 2], [3, 4, 5, 2, 1], [3, 5, 1, 2, 4], [3, 5, 1, 4, 2], [3, 5, 2, 1, 4], [3, 5, 2, 4, 1], [3, 5, 4, 1, 2], [3, 5, 4, 2, 1], [4, 1, 2, 3, 5], [4, 1, 2, 5, 3], [4, 1, 3, 2, 5], [4, 1, 3, 5, 2], [4, 1, 5, 2, 3], [4, 1, 5, 3, 2], [4, 2, 1, 3, 5], [4, 2, 1, 5, 3], [4, 2, 3, 1, 5], [4, 2, 3, 5, 1], [4, 2, 5, 1, 3], [4, 2, 5, 3, 1], [4, 3, 1, 2, 5], [4, 3, 1, 5, 2], [4, 3, 2, 1, 5], [4, 3, 2, 5, 1], [4, 3, 5, 1, 2], [4, 3, 5, 2, 1], [4, 5, 1, 2, 3], [4, 5, 1, 3, 2], [4, 5, 2, 1, 3], [4, 5, 2, 3, 1], [4, 5, 3, 1, 2], [4, 5, 3, 2, 1], [5, 1, 2, 3, 4], [5, 1, 2, 4, 3], [5, 1, 3, 2, 4], [5, 1, 3, 4, 2], [5, 1, 4, 2, 3], [5, 1, 4, 3, 2], [5, 2, 1, 3, 4], [5, 2, 1, 4, 3], [5, 2, 3, 1, 4], [5, 2, 3, 4, 1], [5, 2, 4, 1, 3], [5, 2, 4, 3, 1], [5, 3, 1, 2, 4], [5, 3, 1, 4, 2], [5, 3, 2, 1, 4], [5, 3, 2, 4, 1], [5, 3, 4, 1, 2], [5, 3, 4, 2, 1], [5, 4, 1, 2, 3], [5, 4, 1, 3, 2], [5, 4, 2, 1, 3], [5, 4, 2, 3, 1], [5, 4, 3, 1, 2], [5, 4, 3, 2, 1]]\n"
     ]
    }
   ],
   "source": [
    "# permutations\n",
    "\n",
    "def permutations(curr):\n",
    "    if len(curr) == len(nums):\n",
    "        ans.append(curr[:])\n",
    "        return\n",
    "    \n",
    "    for num in nums:\n",
    "        if num not in curr:\n",
    "            curr.append(num)\n",
    "            permutations(curr)\n",
    "            curr.pop()\n",
    "\n",
    "nums = [1, 2, 3, 4]\n",
    "ans = []\n",
    "permutations([])\n",
    "print(ans)"
   ]
  },
  {
   "cell_type": "code",
   "execution_count": 29,
   "metadata": {},
   "outputs": [
    {
     "name": "stdout",
     "output_type": "stream",
     "text": [
      "[[], [1], [1, 2], [1, 2, 3], [1, 2, 3, 4], [1, 2, 4], [1, 3], [1, 3, 4], [1, 4], [2], [2, 3], [2, 3, 4], [2, 4], [3], [3, 4], [4]]\n"
     ]
    }
   ],
   "source": [
    "# Subsets\n",
    "\n",
    "def subsets(start, path):\n",
    "    # 현재 경로를 결과에 추가\n",
    "    result.append(path[:])\n",
    "\n",
    "    # 가능한 모든 숫자에 대해 반복\n",
    "    for i in range(start, len(nums)):\n",
    "        path.append(nums[i])\n",
    "        subsets(i+1, path)\n",
    "        path.pop()\n",
    "\n",
    "nums = [1, 2, 3, 4]\n",
    "result = []\n",
    "subsets(0, [])\n",
    "print(result)"
   ]
  },
  {
   "cell_type": "markdown",
   "metadata": {},
   "source": [
    "# [Word Search](https://leetcode.com/problems/word-search/)\n"
   ]
  },
  {
   "cell_type": "code",
   "execution_count": null,
   "metadata": {},
   "outputs": [],
   "source": [
    "class Solution:\n",
    "    def exist(self, board, word):\n",
    "        n, m = len(board), len(board[0])\n",
    "        visited = [[False for _ in range(m)] for _ in range(n)]\n",
    "\n",
    "        def in_range(i, j):\n",
    "            if 0 <= i < n and 0 <= j < m:\n",
    "                return True\n",
    "            return False\n",
    "      \n",
    "        def backtracking(i, j, w, visited):\n",
    "            if not visited[i][j] and board[i][j] == word[w]:\n",
    "                if w == len(word) - 1:\n",
    "                    return True\n",
    "                visited[i][j] = True\n",
    "                flag = False\n",
    "                for x, y in [[1, 0], [0, 1], [-1, 0], [0, -1]]:\n",
    "                    if in_range(i+x, j+y):\n",
    "                        if backtracking(i+x, j+y, w+1, visited):\n",
    "                            flag = True\n",
    "                visited[i][j] = False\n",
    "                return flag\n",
    "    \n",
    "        for i in range(n):\n",
    "            for j in range(m):\n",
    "                if backtracking(i, j, 0, visited):\n",
    "                    return True\n",
    "                \n",
    "        return False"
   ]
  }
 ],
 "metadata": {
  "kernelspec": {
   "display_name": "Python 3",
   "language": "python",
   "name": "python3"
  },
  "language_info": {
   "codemirror_mode": {
    "name": "ipython",
    "version": 3
   },
   "file_extension": ".py",
   "mimetype": "text/x-python",
   "name": "python",
   "nbconvert_exporter": "python",
   "pygments_lexer": "ipython3",
   "version": "3.9.13"
  }
 },
 "nbformat": 4,
 "nbformat_minor": 2
}
