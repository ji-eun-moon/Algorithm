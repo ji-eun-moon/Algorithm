{
 "cells": [
  {
   "cell_type": "markdown",
   "metadata": {},
   "source": [
    "# 그래프 (Graph)\n",
    "- 그래프 G(V, E)는 어떤 자료나 개념을 표현하는 정점(Vertex)들의 집합 V와 이들을 연결하는 간선(Edge)들의 집합 E로 구성된 자료 구조\n",
    "- 그래프 종류\n",
    "    - 방향 그래프 / 무방향 그래프\n",
    "    - 다중 그래프 / 단순 그래프\n",
    "    - 가중치 그래프 -> 다익스트라\n",
    "## 그래프 활용\n",
    "- 현실 세계의 사물이나 추상적인 개념 간의 연결관계를 표현한다.\n",
    "- 그래프는 현실의 문제를 해결하기 위한 도구로써 유용하게 이용된다.\n",
    "    - 도시들을 연결하는 도로망 : 도시(V), 도로망(E)\n",
    "    - 지하철 연결 노선도 : 정거장(V), 정거장을 연결한 선(E)\n",
    "    - 컴퓨터 네트워크 : 각 컴퓨터의 라우터(V), 라우터 간의 연결관계 (E)\n",
    "    - 소셜 네트워크 분석 : 페이스북 계정 (V), follow 관계 (E)\n",
    "## 그래프 구현 방법\n",
    "1. 인접 행렬\n",
    "2. 인접 리스트\n",
    "3. 암시적 그래프"
   ]
  },
  {
   "cell_type": "code",
   "execution_count": null,
   "metadata": {},
   "outputs": [],
   "source": [
    "# 인접 행렬\n",
    "\n",
    "matrix = [\n",
    "    [0, 1, 0, 0, 0, 0],\n",
    "    [1, 0, 1, 0, 1, 0],\n",
    "    [0, 1, 0, 1, 0, 0],\n",
    "    [0, 0, 1, 0, 1, 1],\n",
    "    [0, 1, 0, 1, 0, 1],\n",
    "    [0, 0, 0, 1, 1, 0],\n",
    "]"
   ]
  },
  {
   "cell_type": "code",
   "execution_count": 2,
   "metadata": {},
   "outputs": [],
   "source": [
    "# 인접 리스트\n",
    "\n",
    "graph = {\n",
    "    \"A\": [\"B\"],\n",
    "    \"B\": [\"A\", \"C\", \"E\"],\n",
    "    \"C\": [\"B\", \"D\"],\n",
    "    \"D\": [\"C\", \"E\", \"F\"],\n",
    "    \"E\": [\"B\", \"D\", \"F\"],\n",
    "    \"F\": [\"D\", \"E\"],\n",
    "}"
   ]
  },
  {
   "cell_type": "code",
   "execution_count": null,
   "metadata": {},
   "outputs": [],
   "source": [
    "# 암시적 그래프\n",
    "\n",
    "graph = [\n",
    "    [1, 1, 1, 1, 1],\n",
    "    [0, 0, 0, 1, 1],\n",
    "    [1, 1, 0, 1, 1],\n",
    "    [1, 0, 0, 0, 0],\n",
    "    [1, 1, 1, 1, 1],\n",
    "]"
   ]
  },
  {
   "cell_type": "markdown",
   "metadata": {},
   "source": [
    "# 그래프 순회 (Graph Traversal)\n",
    "- 그래프 탐색(Search)라고도 불리우며 그래프의 각 정점을 방문하는 과정을 말함.\n",
    "- 그래프 순회에는 크게 깊이 우선 탐색 (DFS) 과 너비 우선 탐색 (BFS) 2가지 알고리즘이 있음."
   ]
  },
  {
   "cell_type": "markdown",
   "metadata": {},
   "source": [
    "## 너비 우선 탐색 (Breadth-First Search, BFS)"
   ]
  },
  {
   "cell_type": "code",
   "execution_count": 4,
   "metadata": {},
   "outputs": [
    {
     "name": "stdout",
     "output_type": "stream",
     "text": [
      "['A', 'B', 'C', 'E', 'D', 'F']\n"
     ]
    }
   ],
   "source": [
    "from collections import deque\n",
    "\n",
    "graph = {\n",
    "    \"A\": [\"B\"],\n",
    "    \"B\": [\"A\", \"C\", \"E\"],\n",
    "    \"C\": [\"B\", \"D\"],\n",
    "    \"D\": [\"C\", \"E\", \"F\"],\n",
    "    \"E\": [\"B\", \"D\", \"F\"],\n",
    "    \"F\": [\"D\", \"E\"],\n",
    "}\n",
    "\n",
    "def bfs(graph, start_v):\n",
    "    visited = [start_v]\n",
    "    queue = deque(start_v)\n",
    "    while queue:\n",
    "        cur_v = queue.popleft()\n",
    "        for v in graph[cur_v]:\n",
    "            if v not in visited:\n",
    "                visited.append(v)\n",
    "                queue.append(v)\n",
    "    return visited\n",
    "\n",
    "print(bfs(graph, 'A'))"
   ]
  },
  {
   "cell_type": "code",
   "execution_count": null,
   "metadata": {},
   "outputs": [],
   "source": [
    "from collections import deque\n",
    "\n",
    "def isValid(r, c, row_len, col_len):\n",
    "    return 0 <= r < row_len and 0 <= c < col_len\n",
    "\n",
    "def bfs(grid):\n",
    "    row_len, col_len = len(grid), len(grid[0])\n",
    "    visited = [[False]*col_len for _ in range(row_len)]\n",
    "    dr = [0, 1, 0, -1]\n",
    "    dc = [1, 0, -1, 0]\n",
    "\n",
    "    queue = deque()\n",
    "    queue.append(0, 0)\n",
    "    visited[0][0] = True\n",
    "\n",
    "    while queue:\n",
    "        cur_r, cur_c = queue.popleft()\n",
    "        for i in range(4):\n",
    "            next_r = cur_r + dr[i]\n",
    "            next_c = cur_c + dc[i]\n",
    "            if isValid(next_r, next_c, row_len, col_len):\n",
    "                if not visited[next_r][next_c]:\n",
    "                    queue.append((next_r, next_c))\n",
    "                    visited[next_r][next_c]"
   ]
  },
  {
   "cell_type": "markdown",
   "metadata": {},
   "source": [
    "## 깊이 우선 탐색 (Depth First Search,DFS)"
   ]
  },
  {
   "cell_type": "code",
   "execution_count": 7,
   "metadata": {},
   "outputs": [
    {
     "name": "stdout",
     "output_type": "stream",
     "text": [
      "['A', 'B', 'C', 'D', 'E', 'F']\n"
     ]
    }
   ],
   "source": [
    "graph = {\n",
    "    \"A\": [\"B\"],\n",
    "    \"B\": [\"A\", \"C\", \"E\"],\n",
    "    \"C\": [\"B\", \"D\"],\n",
    "    \"D\": [\"C\", \"E\", \"F\"],\n",
    "    \"E\": [\"B\", \"D\", \"F\"],\n",
    "    \"F\": [\"D\", \"E\"],\n",
    "}\n",
    "\n",
    "visited = []\n",
    "\n",
    "def dfs(cur_v):\n",
    "    visited.append(cur_v)\n",
    "    for v in graph[cur_v]:\n",
    "        if v not in visited:\n",
    "            dfs(v)\n",
    "\n",
    "dfs('A')\n",
    "\n",
    "print(visited)"
   ]
  },
  {
   "cell_type": "code",
   "execution_count": null,
   "metadata": {},
   "outputs": [],
   "source": [
    "def isValid(r, c):\n",
    "    return 0 <= r < row_len and 0 <= c < col_len and grid[r][c] == 1\n",
    "\n",
    "def dfs(r, c):\n",
    "    visited[r][c] = True\n",
    "    for i in range(4):\n",
    "        next_r = r + dr[i]\n",
    "        next_c = c + dc[i]\n",
    "        if isValid(next_r, next_c):\n",
    "            if not visited[next_r][next_c]:\n",
    "                dfs(next_r, next_c)\n",
    "\n",
    "grid = [...]\n",
    "row_len, col_len = len(grid), len(grid[0])\n",
    "visited = [[False]*col_len for _ in range(row_len)]\n",
    "dr = [0, 1, 0, -1]\n",
    "dc = [1, 0, -1, 0]\n",
    "dfs(0, 0)"
   ]
  },
  {
   "cell_type": "markdown",
   "metadata": {},
   "source": [
    "## BFS와 DFS 시간 복잡도\n",
    "\n",
    "각각의 순회는 모든 정점$(V)$들을 탐색해야 하고 그러기 위해서는 정점에 연결된 edge $(E)$들을 모두 확인해봐야 한다. 따라서 **BFS와 DFS 시간 복잡도는 $O(V+E)$이다.**"
   ]
  },
  {
   "cell_type": "markdown",
   "metadata": {},
   "source": [
    "# 문제 풀이 - Number of Islands\n",
    "![](./img/05-1.png)\n"
   ]
  },
  {
   "cell_type": "code",
   "execution_count": 14,
   "metadata": {},
   "outputs": [
    {
     "name": "stdout",
     "output_type": "stream",
     "text": [
      "3\n"
     ]
    }
   ],
   "source": [
    "# bfs\n",
    "\n",
    "from collections import deque\n",
    "\n",
    "def numIslands(grid):\n",
    "    num = 0\n",
    "    \n",
    "    m = len(grid)  # 세로\n",
    "    n = len(grid[0])  # 가로\n",
    "\n",
    "    visited = [[False]*n for _ in range(m)]\n",
    "\n",
    "    def bfs(y, x):\n",
    "        dx = [-1, 1, 0, 0]\n",
    "        dy = [0, 0, -1, 1]\n",
    "        visited[y][x] = True\n",
    "        q = deque()\n",
    "        q.append((y, x))\n",
    "        while q:\n",
    "            cur_y, cur_x = q.popleft()\n",
    "            for i in range(4):\n",
    "                next_x = cur_x + dx[i]\n",
    "                next_y = cur_y + dy[i]\n",
    "                if 0 <= next_x < n and 0 <= next_y < m:\n",
    "                    if grid[next_y][next_x] == \"1\" and not visited[next_y][next_x]:\n",
    "                        visited[next_y][next_x] = True\n",
    "                        q.append((next_y, next_x))\n",
    "\n",
    "    for i in range(m):\n",
    "        for j in range(n):\n",
    "            if grid[i][j] == '1' and not visited[i][j]:\n",
    "                bfs(i, j)\n",
    "                num += 1\n",
    "\n",
    "    return num\n",
    "\n",
    "\n",
    "result = numIslands(grid = [\n",
    "  [\"1\",\"1\",\"0\",\"0\",\"0\"],\n",
    "  [\"1\",\"1\",\"0\",\"0\",\"0\"],\n",
    "  [\"0\",\"0\",\"1\",\"0\",\"0\"],\n",
    "  [\"0\",\"0\",\"0\",\"1\",\"1\"]\n",
    "])\n",
    "\n",
    "print(result)"
   ]
  },
  {
   "cell_type": "code",
   "execution_count": 16,
   "metadata": {},
   "outputs": [
    {
     "name": "stdout",
     "output_type": "stream",
     "text": [
      "3\n"
     ]
    }
   ],
   "source": [
    "# DFS\n",
    "def isInRange(r, c, row_len, col_len):\n",
    "    return (r >= 0 and r < row_len) and (c >= 0 and c < col_len)\n",
    "\n",
    "def numIslands(grid):\n",
    "    number_of_islands = 0\n",
    "    row_len = len(grid)\n",
    "    col_len = len(grid[0])\n",
    "    visited = [[False] * col_len for _ in range(row_len)]\n",
    "\n",
    "    def dfs(r, c):\n",
    "        dr = [-1, 1, 0, 0]\n",
    "        dc = [0, 0, -1, 1]\n",
    "        visited[r][c] = True\n",
    "        for i in range(4):\n",
    "            next_r = r + dr[i]\n",
    "            next_c = c + dc[i]\n",
    "            if isInRange(next_r, next_c, row_len, col_len):\n",
    "            # if next_r >= 0 and next_r < row_len and next_c >= 0 and next_c < col_len:\n",
    "                if grid[next_r][next_c] == \"1\" and not visited[next_r][next_c]:\n",
    "                    dfs(next_r, next_c)\n",
    "\n",
    "    for i in range(row_len):\n",
    "        for j in range(col_len):\n",
    "            if grid[i][j] == \"1\" and not visited[i][j]:\n",
    "                dfs(i, j)\n",
    "                number_of_islands += 1\n",
    "\n",
    "    return number_of_islands\n",
    "\n",
    "result = numIslands(grid = [\n",
    "  [\"1\",\"1\",\"0\",\"0\",\"0\"],\n",
    "  [\"1\",\"1\",\"0\",\"0\",\"0\"],\n",
    "  [\"0\",\"0\",\"1\",\"0\",\"0\"],\n",
    "  [\"0\",\"0\",\"0\",\"1\",\"1\"]\n",
    "])\n",
    "\n",
    "print(result)"
   ]
  },
  {
   "cell_type": "markdown",
   "metadata": {},
   "source": [
    "# 최단 거리 문제 - BFS\n",
    "![](./img/05-2.png)"
   ]
  },
  {
   "cell_type": "code",
   "execution_count": 24,
   "metadata": {},
   "outputs": [
    {
     "name": "stdout",
     "output_type": "stream",
     "text": [
      "4\n",
      "-1\n"
     ]
    }
   ],
   "source": [
    "from collections import deque\n",
    "\n",
    "\n",
    "def isInRange(r, c, row_len, col_len):\n",
    "    return (r >= 0 and r < row_len) and (c >= 0 and c < col_len)\n",
    "\n",
    "def shortestPathBinaryMatrix(grid):\n",
    "\n",
    "    shortest_dist = -1\n",
    "\n",
    "    row_len = len(grid)\n",
    "    col_len = len(grid[0])\n",
    "\n",
    "    visited = [[False] * col_len for _ in range(row_len)]\n",
    "\n",
    "    def bfs(y, x):\n",
    "        dy = [0, 0, -1, -1, -1, 1, 1, 1]\n",
    "        dx = [1, -1, 0, -1, 1, 0, -1, 1]\n",
    "        visited[y][x] = True\n",
    "        q = deque()\n",
    "        q.append((y, x, 1))\n",
    "        while q:\n",
    "            cur_y, cur_x, cur_dist = q.popleft()\n",
    "            if cur_y == row_len - 1 and cur_x == col_len - 1:\n",
    "                return cur_dist\n",
    "            for i in range(8):\n",
    "                next_y = cur_y + dy[i]\n",
    "                next_x = cur_x + dx[i]\n",
    "                if isInRange(next_y, next_x, row_len, col_len):\n",
    "                    if not visited[next_y][next_x] and grid[next_y][next_x] == 0:\n",
    "                        q.append((next_y, next_x, cur_dist + 1))\n",
    "                        visited[next_y][next_x] = True\n",
    "    \n",
    "    if grid[0][0] == 1 or grid[row_len-1][col_len-1] == 1:\n",
    "        return shortest_dist\n",
    "    else:\n",
    "        shortest_dist = bfs(0, 0)\n",
    "        \n",
    "    return shortest_dist\n",
    "\n",
    "\n",
    "print(shortestPathBinaryMatrix(grid = [[0,0,0],[1,1,0],[1,1,0]]))\n",
    "print(shortestPathBinaryMatrix(grid = [[1,0,0],[1,1,0],[1,1,0]]))"
   ]
  },
  {
   "cell_type": "markdown",
   "metadata": {},
   "source": [
    "# 문제 - Keys and Rooms\n",
    "![](./img/05-3.png)"
   ]
  },
  {
   "cell_type": "code",
   "execution_count": 25,
   "metadata": {},
   "outputs": [
    {
     "name": "stdout",
     "output_type": "stream",
     "text": [
      "True\n",
      "False\n"
     ]
    }
   ],
   "source": [
    "# BFS\n",
    "\n",
    "from collections import deque\n",
    "\n",
    "def canVisitAllRooms(rooms):\n",
    "    visited = [False] * len(rooms)\n",
    "\n",
    "    def bfs(v):\n",
    "        q = deque()\n",
    "        q.append(v)\n",
    "        visited[v] = True\n",
    "        while q:\n",
    "            cur_v = q.popleft()\n",
    "            for next_v in rooms[cur_v]:\n",
    "                if not visited[next_v]:\n",
    "                    q.append(next_v)\n",
    "                    visited[next_v] = True\n",
    "    \n",
    "    bfs(0)\n",
    "    return all(visited)\n",
    "\n",
    "print(canVisitAllRooms(rooms = [[1], [2], [3], []]))\n",
    "print(canVisitAllRooms(rooms = [[1, 3], [3, 0, 1], [2], [0]]))"
   ]
  },
  {
   "cell_type": "code",
   "execution_count": 26,
   "metadata": {},
   "outputs": [
    {
     "name": "stdout",
     "output_type": "stream",
     "text": [
      "True\n",
      "False\n"
     ]
    }
   ],
   "source": [
    "# DFS\n",
    "\n",
    "def canVisitAllRooms(rooms):\n",
    "    visited = [False] * len(rooms)\n",
    "\n",
    "    def dfs(v):\n",
    "        visited[v] = True\n",
    "        for next_v in rooms[v]:\n",
    "            if not visited[next_v]:\n",
    "                dfs(next_v)\n",
    "    \n",
    "    dfs(0)\n",
    "    return all(visited)\n",
    "\n",
    "print(canVisitAllRooms(rooms = [[1], [2], [3], []]))\n",
    "print(canVisitAllRooms(rooms = [[1, 3], [3, 0, 1], [2], [0]]))\n"
   ]
  }
 ],
 "metadata": {
  "kernelspec": {
   "display_name": "Python 3",
   "language": "python",
   "name": "python3"
  },
  "language_info": {
   "codemirror_mode": {
    "name": "ipython",
    "version": 3
   },
   "file_extension": ".py",
   "mimetype": "text/x-python",
   "name": "python",
   "nbconvert_exporter": "python",
   "pygments_lexer": "ipython3",
   "version": "3.9.13"
  }
 },
 "nbformat": 4,
 "nbformat_minor": 2
}
