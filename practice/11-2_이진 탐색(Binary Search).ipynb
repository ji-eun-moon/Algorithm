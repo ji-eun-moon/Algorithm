{
 "cells": [
  {
   "cell_type": "markdown",
   "metadata": {},
   "source": [
    "# 이진 탐색 (Binary Search)\n",
    "\n",
    "-  정렬된 데이터를 담은 리스트에서 원하는 값의 위치를 찾는 알고리즘\n",
    "- 알고리즘 사용 전에는 데이터를 정렬을 해야한다는 전제조건이 있다.\n",
    "\n",
    "## 이진 탐색 알고리즘 순서\n",
    "\n",
    "1. 리스트의 중간값을 선택한다.\n",
    "2. 중간값과 원하는 값을 비교한다.\n",
    "    1. 중간값이 원하는 값인 경우\n",
    "        - 알고리즘을 종료한다.\n",
    "    2. 중간값이 원하는 값과 다른 경우\n",
    "        - 중간값보다 원하는 값이 **큰** 경우 (중간값 < 원하는 값) : 중간값보다 큰 값들의 집합을 새로운 탐색 영역으로 설정\n",
    "        - 중간값보다 원하는 값이 작은 경우 (중간값 > 원하는 값) : 중간값보다 작은 값들의 집합을 새로운 탐색 영역으로 설정\n",
    "3. 새로운 탐색 영역의 중간값을 선택하고, 2번 과정으로 넘어가서 반복한다.\n",
    "\n",
    "## 이진 탐색 알고리즘 구현\n",
    "### 반복문"
   ]
  },
  {
   "cell_type": "code",
   "execution_count": 1,
   "metadata": {},
   "outputs": [
    {
     "name": "stdout",
     "output_type": "stream",
     "text": [
      "Sorted List : [2, 6, 9, 14, 15, 17, 19, 22, 25, 26, 37, 45, 58, 67, 82]\n",
      "Current Mid : 22\n",
      "Current Mid : 45\n",
      "Current Mid : 67\n",
      "Current Mid : 58\n",
      "Found!\n"
     ]
    }
   ],
   "source": [
    "def bin_search(nums, target):\n",
    "    nums.sort()\n",
    "    print(f\"Sorted List : {nums}\")\n",
    "    l, r = 0, len(nums) - 1\n",
    "    while l <= r:\n",
    "        mid = (l + r) // 2  # // 사용!\n",
    "        print(f\"Current Mid : {nums[mid]}\")\n",
    "        if target > nums[mid]:\n",
    "            l = mid + 1\n",
    "        elif target < nums[mid]:\n",
    "            r = mid - 1\n",
    "        else:\n",
    "            print(\"Found!\")\n",
    "            return\n",
    "    print(\"No target in the list\")\n",
    "    return\n",
    "\n",
    "\n",
    "nums = [2, 6, 9, 14, 15, 17, 19, 22, 25, 26, 37, 45, 58, 67, 82]\n",
    "bin_search(nums, 58)"
   ]
  },
  {
   "cell_type": "markdown",
   "metadata": {},
   "source": [
    "### 재귀"
   ]
  },
  {
   "cell_type": "code",
   "execution_count": 2,
   "metadata": {},
   "outputs": [
    {
     "name": "stdout",
     "output_type": "stream",
     "text": [
      "Sorted List : [2, 6, 9, 14, 15, 17, 19, 22, 25, 26, 37, 45, 58, 67, 82]\n",
      "Current Mid : 22\n",
      "Current Mid : 45\n",
      "Current Mid : 67\n",
      "Current Mid : 58\n",
      "Found!\n"
     ]
    }
   ],
   "source": [
    "def bin_search(nums, target, l, r):\n",
    "    if l > r:\n",
    "        print(\"No target in the list\")\n",
    "        return\n",
    "    mid = (l + r) // 2  # // 사용!\n",
    "    print(f\"Current Mid : {nums[mid]}\")\n",
    "    if target > nums[mid]:\n",
    "        bin_search(nums, target, mid + 1, r)\n",
    "    elif target < nums[mid]:\n",
    "        bin_search(nums, target, l, mid - 1)\n",
    "    else:\n",
    "        print(\"Found!\")\n",
    "        return\n",
    "\n",
    "\n",
    "nums = [2, 6, 9, 14, 15, 17, 19, 22, 25, 26, 37, 45, 58, 67, 82]\n",
    "nums.sort()\n",
    "print(f\"Sorted List : {nums}\")\n",
    "bin_search(nums, 58, 0, len(nums) - 1)"
   ]
  },
  {
   "cell_type": "markdown",
   "metadata": {},
   "source": [
    "## 이진 탐색 알고리즘 시간복잡도\n",
    "\n",
    "- 이진 탐색은 새로운 탐색 영역을 기존 탐색 영역의 $1/2$로 나누는 것을 반복하여 원하는 값을 찾는다.\n",
    "- 분할 정복(Divide-and-Conquer)의 방식을 갖고 있으며, 시간복잡도는 $O(\\mathrm{log}\\,n)$ 이다.\n",
    "- 순수 이진 탐색 알고리즘의 시간복잡도가 $O(\\mathrm{log}\\,n)$일 뿐, 데이터 정렬에 대한 시간 복잡도는 **계산되지 않았다**는 점을 유의해야 한다.\n",
    "\n",
    "- 만약 문제에서 이미 정렬된 리스트를 제공한다면 이진 탐색의 시간 복잡도  $O(\\mathrm{log}\\,n)$만 소요되지만, 정렬을 우리가 직접 해야한다면  $O(n\\mathrm{log}\\,n)$의 시간 복잡도가 걸리는 정렬을 하고 난 후 $O(\\mathrm{log}\\,n)$이 소요되는 이진탐색을 하기 때문에 결과적으로  $O(n\\mathrm{log}\\,n)$의 시간이 걸리게 될 것 !"
   ]
  },
  {
   "cell_type": "markdown",
   "metadata": {},
   "source": [
    "## 코딩테스트 활용\n",
    "\n",
    "### bisect\n",
    "\n",
    "- 파이썬에서는 bisect 라이브러리를 사용해서 이진 탐색 알고리즘을 구현할 필요 없이 사용할 수 있다. \n",
    "- 서로 기능이 매우 유사한 2가지 함수, `bisect_left()` 그리고 `bisect_right()` (또는 `bisect()`)을 설명하겠다. \n",
    "- 이 함수들도 주어진 리스트의 정렬 순서를 유지한 상태로 원하는 값의 위치 혹은 (새로운 값이라면) 삽입 위치를 반환하기 때문에, 실질적인 이진 탐색을 수행하고 싶다면, 정렬이 선행되어야 한다.\n",
    "\n",
    "- 우선 bisect 라이브러리를 불러옵니다."
   ]
  },
  {
   "cell_type": "code",
   "execution_count": 3,
   "metadata": {},
   "outputs": [],
   "source": [
    "import bisect\n",
    "\n",
    "# 바로 함수 이름만 사용하고 싶다면,\n",
    "# from bisect import bisect_left, bisect_right, bisect"
   ]
  },
  {
   "cell_type": "markdown",
   "metadata": {},
   "source": [
    "#### bisect_left()\n",
    "\n",
    "- 원하는 값이 해당 리스트에 존재한다면, 해당 값의 가장 왼쪽 인덱스를 반환\n",
    "- 주어진 값이 리스트에 존재하지 않는 값이라면, 리스트에 삽입할 위치 인덱스를 반환\n",
    "- 탐색 범위를 `lo` , `hi` 매개변수를 통해 설정할 수 있지만, 기본값으로 전체 리스트를 탐색 영역으로 설정\n",
    "- 사용 형식 : `bisect_left([list], [value], lo=0, hi=len([list])-1)`"
   ]
  },
  {
   "cell_type": "code",
   "execution_count": 4,
   "metadata": {},
   "outputs": [
    {
     "name": "stdout",
     "output_type": "stream",
     "text": [
      "2\n",
      "0\n",
      "13\n",
      "4\n"
     ]
    }
   ],
   "source": [
    "n = [1, 2, 5, 7, 9, 9, 10, 10, 10, 11, 12, 13, 13]\n",
    "\n",
    "# 기존에 존재하지 않는 값\n",
    "print(bisect.bisect_left(n, 4))\n",
    "\n",
    "# 기존에 존재하지 않는 값 - 리스트의 모든 값들보다 작은 경우\n",
    "print(bisect.bisect_left(n, 0))\n",
    "\n",
    "# 기존에 존재하지 않는 값 - 리스트의 모든 값들보다 큰 경우\n",
    "print(bisect.bisect_left(n, 299))\n",
    "\n",
    "# 기존에 존재하는 값\n",
    "print(bisect.bisect_left(n, 9))"
   ]
  },
  {
   "cell_type": "markdown",
   "metadata": {},
   "source": [
    "#### bisect_right() (또는 bisect())\n",
    "\n",
    "- `bisect_left()` 와 기능이 매우 유사\n",
    "- 하지만 해당 함수는 원하는 값이 해당 리스트에 존재한다면, 해당 값의 **가장 오른쪽** 인덱스를 반환\n",
    "- 주어진 값이 새로운 값이라면, 리스트에 삽입할 위치 인덱스를 반환\n",
    "- 이 함수 역시 탐색 범위를 `lo` , `hi` 매개변수를 통해 설정할 수 있지만, 기본값으로 전체 리스트를 탐색 영역으로 설정\n",
    "- 위의 예시와 비교하기 위해 함수만 바꿔서 예시 코드를 실행해 보겠습니다.\n",
    "- 사용 형식 : `bisect_right([list], [value], lo=0, hi=len([list])-1)`"
   ]
  },
  {
   "cell_type": "code",
   "execution_count": 5,
   "metadata": {},
   "outputs": [
    {
     "name": "stdout",
     "output_type": "stream",
     "text": [
      "2\n",
      "0\n",
      "13\n",
      "6\n"
     ]
    }
   ],
   "source": [
    "n = [1, 2, 5, 7, 9, 9, 10, 10, 10, 11, 12, 13, 13]\n",
    "\n",
    "# 기존에 존재하지 않는 값\n",
    "print(bisect.bisect_right(n, 4))\n",
    "\n",
    "# 기존에 존재하지 않는 값 - 리스트의 모든 값들보다 작은 경우\n",
    "print(bisect.bisect_right(n, 0))\n",
    "\n",
    "# 기존에 존재하지 않는 값 - 리스트의 모든 값들보다 큰 경우\n",
    "print(bisect.bisect_right(n, 299))\n",
    "\n",
    "# 기존에 존재하는 값\n",
    "print(bisect.bisect_right(n, 9))"
   ]
  },
  {
   "cell_type": "markdown",
   "metadata": {},
   "source": [
    "- bisect() 는 bisect_right() 와 동일\n",
    "- 이 함수는 bisect 라이브러리와는 구분되는 엄연한 함수이기 때문에 bisect 라이브러리만 불러오셨다면, bisect.bisect() 와 같이 사용해야 한다.\n",
    "- 두 함수 중 원하시는 함수를 사용하면 되는데, 반환 인덱스 위치를 명시해 주는 bisect_right() 함수가 매우 직관적이라 사용하는 것을 권장"
   ]
  },
  {
   "cell_type": "code",
   "execution_count": 6,
   "metadata": {},
   "outputs": [
    {
     "name": "stdout",
     "output_type": "stream",
     "text": [
      "2\n",
      "0\n",
      "13\n",
      "6\n"
     ]
    }
   ],
   "source": [
    "n = [1, 2, 5, 7, 9, 9, 10, 10, 10, 11, 12, 13, 13]\n",
    "\n",
    "# 새로운 값\n",
    "print(bisect.bisect(n, 4))\n",
    "\n",
    "# 새로운 값 - 리스트의 모든 값들보다 작은 경우\n",
    "print(bisect.bisect(n, 0))\n",
    "\n",
    "# 새로운 값 = 리스트의 모든 값들보다 큰 경우\n",
    "print(bisect.bisect(n, 299))\n",
    "\n",
    "# 기존에 존재하는 값\n",
    "print(bisect.bisect(n, 9))"
   ]
  },
  {
   "cell_type": "markdown",
   "metadata": {},
   "source": [
    "#### `bisect_left()` vs `bisect_right()` (또는 `bisect()`)\n",
    "\n",
    "- 코딩테스트에서 `bisect_left()` 함수를 사용하는 것이 가장 좋다. \n",
    "- 두 함수 모두 찾고자 하는 데이터가 없는 경우 같은 인덱스를 반환하지만, 중복되는 데이터가 존재할 경우 각 함수의 반환값에 차이가 발생\n",
    "- `bisect_left()`의 경우, 중복되는 데이터의 존재 여부와 상관없이 항상 같은 인덱스를 반환\n",
    "- 반대로 `bisect_right()`는 중복되는 데이터의 개수에 따라서 반환하는 인덱스가 달라짐.\n",
    "- 따라서 실수를 줄이기 위해서 bisect_left()를 사용하는 것이 좋다. \n",
    "- 아래 코드로 두 함수의 상황별 차이를 확인해 보자."
   ]
  },
  {
   "cell_type": "code",
   "execution_count": 7,
   "metadata": {},
   "outputs": [
    {
     "name": "stdout",
     "output_type": "stream",
     "text": [
      "------------------\n",
      "target : 8\n",
      "bisect : 3\n",
      "bisect_right : 3\n",
      "bisect_left : 3\n",
      "------------------\n",
      "target : 9\n",
      "bisect : 4\n",
      "bisect_right : 4\n",
      "bisect_left : 3\n",
      "------------------\n",
      "target : 9\n",
      "bisect : 6\n",
      "bisect_right : 6\n",
      "bisect_left : 3\n",
      "------------------\n"
     ]
    }
   ],
   "source": [
    "import bisect\n",
    "\n",
    "# 찾고자하는 데이터가 존재하지 않는 경우\n",
    "l1 = [1, 3, 7, 9, 10, 12, 12, 15]\n",
    "print(\"------------------\")\n",
    "print(\"target :\", 8)\n",
    "print(\"bisect :\", bisect.bisect(l1, 8))\n",
    "print(\"bisect_right :\", bisect.bisect_right(l1, 8))\n",
    "print(\"bisect_left :\", bisect.bisect_left(l1, 8))\n",
    "print(\"------------------\")\n",
    "\n",
    "# 찾고자하는 데이터가 존재하는 경우\n",
    "print(\"target :\", 9)\n",
    "print(\"bisect :\", bisect.bisect(l1, 9))\n",
    "print(\"bisect_right :\", bisect.bisect_right(l1, 9))\n",
    "print(\"bisect_left :\", bisect.bisect_left(l1, 9))\n",
    "print(\"------------------\")\n",
    "\n",
    "# 찾고자하는 데이터가 중복으로 존재하는 경우\n",
    "l2 = [1, 3, 7, 9, 9, 9, 12, 12, 15]\n",
    "print(\"target :\", 9)\n",
    "print(\"bisect :\", bisect.bisect(l2, 9))\n",
    "print(\"bisect_right :\", bisect.bisect_right(l2, 9))\n",
    "print(\"bisect_left :\", bisect.bisect_left(l2, 9))\n",
    "print(\"------------------\")"
   ]
  },
  {
   "cell_type": "markdown",
   "metadata": {},
   "source": [
    "## 방대한 데이터 안에서 특정 값 존재 여부 판단하기\n",
    "\n",
    "- 이진 탐색 알고리즘이 자주 사용되는 이유 중 하나는 획기적인 $O(\\mathrm{log}\\,n)$의 시간복잡도이다. \n",
    "- 빠르게 원하는 데이터의 **존재 여부 판단**과 함께 bisect 라이브러리처럼 원하는 **데이터의 위치를 파악**할 수 있다. \n",
    "- 정렬되어 있어야 한다는 전제조건만 충족하면, 이진 탐색 알고리즘은 빠른 속도로 탐색을 수행한다. \n",
    "- 대표적인 예시로는 2024 카카오 Tech Internship 3번 문제를 들 수 있습니다."
   ]
  }
 ],
 "metadata": {
  "kernelspec": {
   "display_name": "Python 3",
   "language": "python",
   "name": "python3"
  },
  "language_info": {
   "codemirror_mode": {
    "name": "ipython",
    "version": 3
   },
   "file_extension": ".py",
   "mimetype": "text/x-python",
   "name": "python",
   "nbconvert_exporter": "python",
   "pygments_lexer": "ipython3",
   "version": "3.9.13"
  }
 },
 "nbformat": 4,
 "nbformat_minor": 2
}
