{
 "cells": [
  {
   "cell_type": "markdown",
   "metadata": {},
   "source": [
    "# Hash Table\n",
    "- 효율적인 탐색(빠른 탐색)을 위한 자료구조로써, key-value 쌍의 데이터를 입력 받음\n",
    "- hash function h에 key 값을 입력으로 넣어 얻은 해시값 h(k)를 위치로 지정하여 key-value 데이터 쌍을 저장\n",
    "- 저장, 삭제, 검색의 시간복잡도는 모두 O(1)"
   ]
  },
  {
   "cell_type": "markdown",
   "metadata": {},
   "source": [
    "## dictionary\n",
    "- 파이썬의 딕셔너리는 hash table로 구현되어 있음"
   ]
  },
  {
   "cell_type": "code",
   "execution_count": 1,
   "metadata": {},
   "outputs": [],
   "source": [
    "student_info = {}\n",
    "student_info[2022390] = \"노정호\"\n",
    "student_info[2022392] = \"배준석\"\n",
    "student_info[2022393] = \"정재헌\"\n",
    "student_info[2022401] = \"남영욱\""
   ]
  },
  {
   "cell_type": "markdown",
   "metadata": {},
   "source": [
    "### in 연산자\n",
    "- key가 존재하면 True를 반환하고 존재하지 않으면 False를 반환\n",
    "- 시간복잡도는 $O(1)$으로 매우 효율적"
   ]
  },
  {
   "cell_type": "code",
   "execution_count": 2,
   "metadata": {},
   "outputs": [
    {
     "name": "stdout",
     "output_type": "stream",
     "text": [
      "학생이 존재합니다\n"
     ]
    }
   ],
   "source": [
    "# in 연산자 - key 가 존재하면 True, 존재하지 않으면 False 반환 - O(1)\n",
    "if 2022390 in student_info:\n",
    "\t\tprint(\"학생이 존재합니다\")\n",
    "else:\n",
    "\t\tprint(\"학생이 존재하지 않습니다\")"
   ]
  },
  {
   "cell_type": "markdown",
   "metadata": {},
   "source": [
    "### Dictionary 관련 함수\n",
    "#### dictionary.items()\n",
    "- key와 value 모두 접근할 때 사용"
   ]
  },
  {
   "cell_type": "code",
   "execution_count": 3,
   "metadata": {},
   "outputs": [
    {
     "name": "stdout",
     "output_type": "stream",
     "text": [
      "2022390 노정호\n",
      "2022392 배준석\n",
      "2022393 정재헌\n",
      "2022401 남영욱\n"
     ]
    }
   ],
   "source": [
    "for student_id, name in student_info.items():\n",
    "    print(student_id, name)"
   ]
  },
  {
   "cell_type": "markdown",
   "metadata": {},
   "source": [
    "#### dictionary.keys()\n",
    "- dictionary의 key들을 접근할 때 사용"
   ]
  },
  {
   "cell_type": "code",
   "execution_count": 4,
   "metadata": {},
   "outputs": [
    {
     "name": "stdout",
     "output_type": "stream",
     "text": [
      "2022390\n",
      "2022392\n",
      "2022393\n",
      "2022401\n"
     ]
    }
   ],
   "source": [
    "for student_id in student_info.keys():\n",
    "    print(student_id) "
   ]
  },
  {
   "cell_type": "markdown",
   "metadata": {},
   "source": [
    "#### dictionary.values()\n",
    "- dictionary의 value들을 접근할 때 사용"
   ]
  },
  {
   "cell_type": "code",
   "execution_count": 5,
   "metadata": {},
   "outputs": [
    {
     "name": "stdout",
     "output_type": "stream",
     "text": [
      "노정호\n",
      "배준석\n",
      "정재헌\n",
      "남영욱\n"
     ]
    }
   ],
   "source": [
    "for name in student_info.values():\n",
    "    print(name)"
   ]
  },
  {
   "cell_type": "markdown",
   "metadata": {},
   "source": [
    "#### dictionary.get()\n",
    "- key에 해당하는 value을 가져올 때 사용"
   ]
  },
  {
   "cell_type": "code",
   "execution_count": 7,
   "metadata": {},
   "outputs": [
    {
     "name": "stdout",
     "output_type": "stream",
     "text": [
      "노정호\n",
      "None\n",
      "김기영\n"
     ]
    }
   ],
   "source": [
    "print(student_info.get(2022390))\n",
    "print(student_info.get(1111))\n",
    "print(student_info.get(1111, \"김기영\"))  # 없는 값을 가져올 경우 default 값 지정할 수 있음"
   ]
  },
  {
   "cell_type": "markdown",
   "metadata": {},
   "source": [
    "# 문제 풀이 - (1)\n",
    "![](./img/03-1.png)"
   ]
  },
  {
   "cell_type": "code",
   "execution_count": 10,
   "metadata": {},
   "outputs": [
    {
     "name": "stdout",
     "output_type": "stream",
     "text": [
      "True\n",
      "False\n",
      "[2, 4]\n",
      "None\n"
     ]
    }
   ],
   "source": [
    "def two_sum(nums, target):\n",
    "    memo = {}\n",
    "    # O(n)\n",
    "    for num in nums:\n",
    "        memo[num] = 1\n",
    "    # O(n)\n",
    "    for num in nums:\n",
    "        need_number = target - num\n",
    "        # O(1)\n",
    "        if need_number in memo and num != need_number:\n",
    "            return True \n",
    "    return False\n",
    "\n",
    "def two_sum_answer(nums, target):\n",
    "    memo = {}\n",
    "    for i, num in enumerate(nums):\n",
    "        needed = target - num\n",
    "        if needed in memo:\n",
    "            return [memo[needed], i]\n",
    "        memo[num] = i\n",
    "\n",
    "print(two_sum(nums=[4, 1, 9, 7, 5, 3, 16], target=14))\n",
    "print(two_sum(nums=[2, 1, 5, 7], target=4))\n",
    "print(two_sum_answer(nums=[4, 1, 9, 7, 5, 3, 16], target=14))\n",
    "print(two_sum_answer(nums=[2, 1, 5, 7], target=4))"
   ]
  },
  {
   "cell_type": "markdown",
   "metadata": {},
   "source": [
    "# 문제 풀이 - (2)\n",
    "\n",
    "![](./img/03-2.png)\n"
   ]
  },
  {
   "cell_type": "code",
   "execution_count": 13,
   "metadata": {},
   "outputs": [
    {
     "name": "stdout",
     "output_type": "stream",
     "text": [
      "0\n",
      "4\n",
      "9\n"
     ]
    }
   ],
   "source": [
    "def longestConsecutive(nums):\n",
    "    longest = 0\n",
    "    # 숫자 딕셔너리 만들기 - O(n)\n",
    "    num_dict = {}\n",
    "    for num in nums:\n",
    "        num_dict[num] = True\n",
    "\n",
    "    # O(n+n)\n",
    "    for num in num_dict:\n",
    "        prev = num - 1\n",
    "        if prev not in num_dict:  # 이전 숫자가 없다면 (중복 확인 방지)\n",
    "            cnt = 1\n",
    "            target = num + 1\n",
    "            while target in num_dict:  # 다음 숫자가 있을 때까지 확인\n",
    "                target += 1\n",
    "                cnt += 1\n",
    "            longest = max(longest, cnt)\n",
    "\n",
    "    return longest\n",
    "\n",
    "# Hash Set 사용해도 동일한 결과\n",
    "\n",
    "def longestConsecutiveSet(nums):\n",
    "    longest = 0\n",
    "    # 숫자 딕셔너리 만들기 - O(n)\n",
    "    num_set = set(nums)\n",
    "\n",
    "    # O(n+n)\n",
    "    for num in num_set:\n",
    "        prev = num - 1\n",
    "        if prev not in num_set:  # 이전 숫자가 없다면 (중복 확인 방지)\n",
    "            cnt = 1\n",
    "            target = num + 1\n",
    "            while target in num_set:  # 다음 숫자가 있을 때까지 확인\n",
    "                target += 1\n",
    "                cnt += 1\n",
    "            longest = max(longest, cnt)\n",
    "\n",
    "    return longest\n",
    "            \n",
    "print(longestConsecutive(nums=[]))\n",
    "print(longestConsecutive(nums=[100, 4, 200, 1, 3, 2]))\n",
    "print(longestConsecutive(nums=[0, 3, 7, 2, 5, 8, 4, 6, 0, 1]))"
   ]
  }
 ],
 "metadata": {
  "kernelspec": {
   "display_name": "Python 3",
   "language": "python",
   "name": "python3"
  },
  "language_info": {
   "codemirror_mode": {
    "name": "ipython",
    "version": 3
   },
   "file_extension": ".py",
   "mimetype": "text/x-python",
   "name": "python",
   "nbconvert_exporter": "python",
   "pygments_lexer": "ipython3",
   "version": "3.9.13"
  }
 },
 "nbformat": 4,
 "nbformat_minor": 2
}
